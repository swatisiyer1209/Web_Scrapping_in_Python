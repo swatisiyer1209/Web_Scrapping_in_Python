{
 "cells": [
  {
   "cell_type": "code",
   "execution_count": 1,
   "id": "39b3fabd",
   "metadata": {},
   "outputs": [],
   "source": [
    "from bs4 import BeautifulSoup\n",
    "import requests\n",
    "import smtplib #library that helps sending emails to yourself\n",
    "import time\n",
    "import datetime\n",
    "\n"
   ]
  },
  {
   "cell_type": "code",
   "execution_count": 2,
   "id": "e0ca9a5f",
   "metadata": {
    "scrolled": false
   },
   "outputs": [],
   "source": [
    "# Connect to Website and pull in data\n",
    "\n",
    "URL = 'https://www.amazon.com/dp/B08T92MZ2Y/ref=sspa_dk_detail_3?pd_rd_i=B08T92MZ2Y&pd_rd_w=IiJ7K&content-id=amzn1.sym.eb7c1ac5-7c51-4df5-ba34-ca810f1f119a&pf_rd_p=eb7c1ac5-7c51-4df5-ba34-ca810f1f119a&pf_rd_r=HZC1DA12M2H2J7HN18FN&pd_rd_wg=aSHtY&pd_rd_r=aadce9f2-56b7-49f8-954b-aecb673afa9f&s=apparel&sp_csd=d2lkZ2V0TmFtZT1zcF9kZXRhaWw&th=1&psc=1'\n",
    "\n",
    "headers = {\"User-Agent\": \"Mozilla/5.0 (Windows NT 10.0; Win64; x64) AppleWebKit/537.36 (KHTML, like Gecko) Chrome/78.0.3904.108 Safari/537.36\", \"Accept-Encoding\":\"gzip, deflate\", \"Accept\":\"text/html,application/xhtml+xml,application/xml;q=0.9,*/*;q=0.8\", \"DNT\":\"1\",\"Connection\":\"close\", \"Upgrade-Insecure-Requests\":\"1\"}\n",
    "\n",
    "page = requests.get(URL, headers=headers)\n",
    "\n",
    "soup1 = BeautifulSoup(page.content, \"html.parser\")\n",
    "\n",
    "soup2 = BeautifulSoup(soup1.prettify(), \"html.parser\")"
   ]
  },
  {
   "cell_type": "code",
   "execution_count": 3,
   "id": "ab183ea0",
   "metadata": {},
   "outputs": [
    {
     "name": "stdout",
     "output_type": "stream",
     "text": [
      "People Who Tolerate Me on a Daily Basis T-Shirt, Funny Tshirt for Men, Sarcastic Graphic Novelty T Shirt\n",
      "19.99\n",
      "4.7\n"
     ]
    }
   ],
   "source": [
    "\n",
    "title = soup2.find(id='productTitle').get_text()\n",
    "title=title.strip()\n",
    "print(title)\n",
    "\n",
    "price=soup2.find(class_='a-section aok-hidden twister-plus-buying-options-price-data').get_text() #this store price as a string\n",
    "price=price[61:66]\n",
    "print(price)\n",
    "\n",
    "ratings=soup2.find('span',class_='a-icon-alt').get_text()\n",
    "x=ratings.strip()\n",
    "ratings=x[0:3]\n",
    "print(ratings)\n",
    "    "
   ]
  },
  {
   "cell_type": "code",
   "execution_count": 4,
   "id": "3925c17f",
   "metadata": {},
   "outputs": [],
   "source": [
    "#repeating this to do this so that we can extract these values for this item over time and export this data in a csv \n",
    "#getting date of when the data is collected\n",
    "today=datetime.date.today()\n",
    "\n",
    "import csv\n",
    "header=['Date','Title','Price','Ratings']\n",
    "data=[today,title,price,ratings]\n",
    "type(data)\n",
    "\n",
    "with open('Amazon_product_data.csv','w',newline='',encoding='UTF8') as f:\n",
    "    writer=csv.writer(f)\n",
    "    writer.writerow(header)\n",
    "    writer.writerow(data)\n",
    "    "
   ]
  },
  {
   "cell_type": "code",
   "execution_count": 5,
   "id": "7a2c612f",
   "metadata": {},
   "outputs": [
    {
     "data": {
      "text/html": [
       "<div>\n",
       "<style scoped>\n",
       "    .dataframe tbody tr th:only-of-type {\n",
       "        vertical-align: middle;\n",
       "    }\n",
       "\n",
       "    .dataframe tbody tr th {\n",
       "        vertical-align: top;\n",
       "    }\n",
       "\n",
       "    .dataframe thead th {\n",
       "        text-align: right;\n",
       "    }\n",
       "</style>\n",
       "<table border=\"1\" class=\"dataframe\">\n",
       "  <thead>\n",
       "    <tr style=\"text-align: right;\">\n",
       "      <th></th>\n",
       "      <th>Date</th>\n",
       "      <th>Title</th>\n",
       "      <th>Price</th>\n",
       "      <th>Ratings</th>\n",
       "    </tr>\n",
       "  </thead>\n",
       "  <tbody>\n",
       "    <tr>\n",
       "      <th>0</th>\n",
       "      <td>2023-11-29</td>\n",
       "      <td>People Who Tolerate Me on a Daily Basis T-Shir...</td>\n",
       "      <td>19.99</td>\n",
       "      <td>4.7</td>\n",
       "    </tr>\n",
       "  </tbody>\n",
       "</table>\n",
       "</div>"
      ],
      "text/plain": [
       "         Date                                              Title  Price  \\\n",
       "0  2023-11-29  People Who Tolerate Me on a Daily Basis T-Shir...  19.99   \n",
       "\n",
       "   Ratings  \n",
       "0      4.7  "
      ]
     },
     "execution_count": 5,
     "metadata": {},
     "output_type": "execute_result"
    }
   ],
   "source": [
    "import pandas as pd\n",
    "df=pd.read_csv(r\"C:\\Users\\swati\\Amazon_product_data.csv\")\n",
    "df"
   ]
  },
  {
   "cell_type": "code",
   "execution_count": 6,
   "id": "69d7f192",
   "metadata": {},
   "outputs": [],
   "source": [
    "#aim is to check how price of this one itme varies with time\n",
    "with open('Amazon_product_data.csv','a+',newline='',encoding='UTF8')as f: #a+ appends data\n",
    "    writer=csv.writer(f)\n",
    "    writer.writerow(data)"
   ]
  },
  {
   "cell_type": "code",
   "execution_count": 11,
   "id": "dfc7c0ab",
   "metadata": {},
   "outputs": [],
   "source": [
    "#automating the above code so that it mails the data everyday automatically without manually running  the code\n",
    "\n",
    "#putting all of the above code in a function\n",
    "\n",
    "def check_price():\n",
    "    # Connect to Website and pull in data\n",
    "\n",
    "    URL = 'https://www.amazon.com/dp/B08T92MZ2Y/ref=sspa_dk_detail_3?pd_rd_i=B08T92MZ2Y&pd_rd_w=IiJ7K&content-id=amzn1.sym.eb7c1ac5-7c51-4df5-ba34-ca810f1f119a&pf_rd_p=eb7c1ac5-7c51-4df5-ba34-ca810f1f119a&pf_rd_r=HZC1DA12M2H2J7HN18FN&pd_rd_wg=aSHtY&pd_rd_r=aadce9f2-56b7-49f8-954b-aecb673afa9f&s=apparel&sp_csd=d2lkZ2V0TmFtZT1zcF9kZXRhaWw&th=1&psc=1'\n",
    "\n",
    "    headers = {\"User-Agent\": \"Mozilla/5.0 (Windows NT 10.0; Win64; x64) AppleWebKit/537.36 (KHTML, like Gecko) Chrome/78.0.3904.108 Safari/537.36\", \"Accept-Encoding\":\"gzip, deflate\", \"Accept\":\"text/html,application/xhtml+xml,application/xml;q=0.9,*/*;q=0.8\", \"DNT\":\"1\",\"Connection\":\"close\", \"Upgrade-Insecure-Requests\":\"1\"}\n",
    "\n",
    "    page = requests.get(URL, headers=headers)\n",
    "\n",
    "    soup1 = BeautifulSoup(page.content, \"html.parser\")\n",
    "\n",
    "    soup2 = BeautifulSoup(soup1.prettify(), \"html.parser\")\n",
    "    \n",
    "    title = soup2.find(id='productTitle').get_text()\n",
    "    title=title.strip()\n",
    "    \n",
    "    price=soup2.find(class_='a-section aok-hidden twister-plus-buying-options-price-data').get_text() #this store price as a string\n",
    "    price=price[61:66]\n",
    "    \n",
    "    ratings=soup2.find('span',class_='a-icon-alt').get_text()\n",
    "    ratings=ratings.strip()\n",
    "    ratings=ratings[0:3]\n",
    "    \n",
    "    today=datetime.date.today()\n",
    "    \n",
    "    import csv\n",
    "    header=['Date','Title','Price','Ratings']\n",
    "    data=[today,title,price,ratings]\n",
    "    \n",
    "    with open('Amazon_product_data.csv','a+',newline='',encoding='UTF8')as f: #a+ appends data\n",
    "        writer=csv.writer(f)\n",
    "        writer.writerow(data)\n",
    "    if price <100:\n",
    "        send_mail()\n"
   ]
  },
  {
   "cell_type": "code",
   "execution_count": 12,
   "id": "19f0c05e",
   "metadata": {},
   "outputs": [
    {
     "ename": "TypeError",
     "evalue": "'<' not supported between instances of 'str' and 'int'",
     "output_type": "error",
     "traceback": [
      "\u001b[1;31m---------------------------------------------------------------------------\u001b[0m",
      "\u001b[1;31mTypeError\u001b[0m                                 Traceback (most recent call last)",
      "Cell \u001b[1;32mIn[12], line 4\u001b[0m\n\u001b[0;32m      1\u001b[0m \u001b[38;5;66;03m# Runs check_price after a set time and inputs data into your CSV\u001b[39;00m\n\u001b[0;32m      3\u001b[0m \u001b[38;5;28;01mwhile\u001b[39;00m(\u001b[38;5;28;01mTrue\u001b[39;00m):\n\u001b[1;32m----> 4\u001b[0m     check_price()\n\u001b[0;32m      5\u001b[0m     time\u001b[38;5;241m.\u001b[39msleep(\u001b[38;5;241m10\u001b[39m)\n",
      "Cell \u001b[1;32mIn[11], line 37\u001b[0m, in \u001b[0;36mcheck_price\u001b[1;34m()\u001b[0m\n\u001b[0;32m     35\u001b[0m     writer\u001b[38;5;241m=\u001b[39mcsv\u001b[38;5;241m.\u001b[39mwriter(f)\n\u001b[0;32m     36\u001b[0m     writer\u001b[38;5;241m.\u001b[39mwriterow(data)\n\u001b[1;32m---> 37\u001b[0m \u001b[38;5;28;01mif\u001b[39;00m price \u001b[38;5;241m<\u001b[39m\u001b[38;5;241m100\u001b[39m:\n\u001b[0;32m     38\u001b[0m     send_mail()\n",
      "\u001b[1;31mTypeError\u001b[0m: '<' not supported between instances of 'str' and 'int'"
     ]
    }
   ],
   "source": [
    "# Runs check_price after a set time and inputs data into your CSV\n",
    "\n",
    "while(True):\n",
    "    check_price()\n",
    "    time.sleep(86000) #runs everyday"
   ]
  },
  {
   "cell_type": "code",
   "execution_count": 13,
   "id": "08541d44",
   "metadata": {},
   "outputs": [
    {
     "data": {
      "text/html": [
       "<div>\n",
       "<style scoped>\n",
       "    .dataframe tbody tr th:only-of-type {\n",
       "        vertical-align: middle;\n",
       "    }\n",
       "\n",
       "    .dataframe tbody tr th {\n",
       "        vertical-align: top;\n",
       "    }\n",
       "\n",
       "    .dataframe thead th {\n",
       "        text-align: right;\n",
       "    }\n",
       "</style>\n",
       "<table border=\"1\" class=\"dataframe\">\n",
       "  <thead>\n",
       "    <tr style=\"text-align: right;\">\n",
       "      <th></th>\n",
       "      <th>Date</th>\n",
       "      <th>Title</th>\n",
       "      <th>Price</th>\n",
       "      <th>Ratings</th>\n",
       "    </tr>\n",
       "  </thead>\n",
       "  <tbody>\n",
       "    <tr>\n",
       "      <th>0</th>\n",
       "      <td>2023-11-29</td>\n",
       "      <td>People Who Tolerate Me on a Daily Basis T-Shir...</td>\n",
       "      <td>19.99</td>\n",
       "      <td>4.7</td>\n",
       "    </tr>\n",
       "    <tr>\n",
       "      <th>1</th>\n",
       "      <td>2023-11-29</td>\n",
       "      <td>People Who Tolerate Me on a Daily Basis T-Shir...</td>\n",
       "      <td>19.99</td>\n",
       "      <td>4.7</td>\n",
       "    </tr>\n",
       "    <tr>\n",
       "      <th>2</th>\n",
       "      <td>2023-11-29</td>\n",
       "      <td>People Who Tolerate Me on a Daily Basis T-Shir...</td>\n",
       "      <td>19.99</td>\n",
       "      <td>4.7</td>\n",
       "    </tr>\n",
       "    <tr>\n",
       "      <th>3</th>\n",
       "      <td>2023-11-29</td>\n",
       "      <td>People Who Tolerate Me on a Daily Basis T-Shir...</td>\n",
       "      <td>19.99</td>\n",
       "      <td>4.7</td>\n",
       "    </tr>\n",
       "  </tbody>\n",
       "</table>\n",
       "</div>"
      ],
      "text/plain": [
       "         Date                                              Title  Price  \\\n",
       "0  2023-11-29  People Who Tolerate Me on a Daily Basis T-Shir...  19.99   \n",
       "1  2023-11-29  People Who Tolerate Me on a Daily Basis T-Shir...  19.99   \n",
       "2  2023-11-29  People Who Tolerate Me on a Daily Basis T-Shir...  19.99   \n",
       "3  2023-11-29  People Who Tolerate Me on a Daily Basis T-Shir...  19.99   \n",
       "\n",
       "   Ratings  \n",
       "0      4.7  \n",
       "1      4.7  \n",
       "2      4.7  \n",
       "3      4.7  "
      ]
     },
     "execution_count": 13,
     "metadata": {},
     "output_type": "execute_result"
    }
   ],
   "source": [
    "import pandas as pd\n",
    "df=pd.read_csv(r\"C:\\Users\\swati\\Amazon_product_data.csv\")\n",
    "df"
   ]
  },
  {
   "cell_type": "code",
   "execution_count": 14,
   "id": "405c9f0b",
   "metadata": {},
   "outputs": [],
   "source": [
    "# If uou want to try sending yourself an email (just for fun) when a price hits below a certain level you can try it\n",
    "# out with this script\n",
    "\n",
    "def send_mail():\n",
    "    server = smtplib.SMTP_SSL('smtp.gmail.com',465)\n",
    "    server.ehlo()\n",
    "    #server.starttls()\n",
    "    server.ehlo()\n",
    "    server.login('swatisiyer1209@gmail.com','Sudha_1108#')\n",
    "    \n",
    "    subject = \"The Shirt you want is below $15! Now is your chance to buy!\"\n",
    "    body = \"Swati, This is the moment we have been waiting for. Now is your chance to pick up the shirt of your dreams. Don't mess it up! Link here: https://www.amazon.com/dp/B08T92MZ2Y/ref=sspa_dk_detail_3?pd_rd_i=B08T92MZ2Y&pd_rd_w=IiJ7K&content-id=amzn1.sym.eb7c1ac5-7c51-4df5-ba34-ca810f1f119a&pf_rd_p=eb7c1ac5-7c51-4df5-ba34-ca810f1f119a&pf_rd_r=HZC1DA12M2H2J7HN18FN&pd_rd_wg=aSHtY&pd_rd_r=aadce9f2-56b7-49f8-954b-aecb673afa9f&s=apparel&sp_csd=d2lkZ2V0TmFtZT1zcF9kZXRhaWw&th=1&psc=1\"\n",
    "   \n",
    "    msg = f\"Subject: {subject}\\n\\n{body}\"\n",
    "    \n",
    "    server.sendmail(\n",
    "        'swatisiyer1209@gmail.com',\n",
    "        msg\n",
    "     \n",
    "    )"
   ]
  },
  {
   "cell_type": "code",
   "execution_count": null,
   "id": "40952436",
   "metadata": {},
   "outputs": [],
   "source": []
  }
 ],
 "metadata": {
  "kernelspec": {
   "display_name": "Python 3 (ipykernel)",
   "language": "python",
   "name": "python3"
  },
  "language_info": {
   "codemirror_mode": {
    "name": "ipython",
    "version": 3
   },
   "file_extension": ".py",
   "mimetype": "text/x-python",
   "name": "python",
   "nbconvert_exporter": "python",
   "pygments_lexer": "ipython3",
   "version": "3.11.5"
  }
 },
 "nbformat": 4,
 "nbformat_minor": 5
}
